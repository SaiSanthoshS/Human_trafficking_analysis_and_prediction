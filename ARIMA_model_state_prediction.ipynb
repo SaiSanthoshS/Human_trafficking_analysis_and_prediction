{
 "cells": [
  {
   "cell_type": "code",
   "execution_count": null,
   "metadata": {},
   "outputs": [],
   "source": [
    "import pandas as pd\n",
    "import numpy as np\n",
    "from statsmodels.tsa.statespace.sarimax import SARIMAX\n",
    "import matplotlib.pyplot as plt\n",
    "\n",
    "# Load the dataset\n",
    "df = pd.read_csv('Human trafficking 15-20.csv')\n",
    "\n",
    "# Get the list of states from the first column\n",
    "states = df.iloc[:, 0].unique()\n",
    "\n",
    "# Create a dictionary to store the models and predictions for each state\n",
    "models = {}\n",
    "predictions = {}\n",
    "\n",
    "# Loop over each state and train a separate SARIMA model\n",
    "for state in states:\n",
    "    # Get the data for the current state\n",
    "    data = df[df.iloc[:, 0] == state].iloc[:, 1:].squeeze()\n",
    "\n",
    "    # Split the data into training and testing sets\n",
    "    train_data = data[:-2]\n",
    "    test_data = data[-2:]\n",
    "\n",
    "    # Train the SARIMA model\n",
    "    model = SARIMAX(train_data, order=(1, 1, 1), seasonal_order=(1, 1, 1, 12))\n",
    "    model_fit = model.fit()\n",
    "\n",
    "    # Make predictions for the next 5 years\n",
    "    predictions[state] = model_fit.forecast(steps=5)\n",
    "\n",
    "    # Store the trained model\n",
    "    models[state] = model_fit\n",
    "\n",
    "# Plot the predicted values for each state\n",
    "for state in states:\n",
    "    # Get the actual and predicted values for the current state\n",
    "    actual_values = df[df.iloc[:, 0] == state].iloc[:, 1:].squeeze().values\n",
    "    predicted_values = np.concatenate([actual_values[:-2], predictions[state], np.repeat(predictions[state][-1], 2)])\n",
    "\n",
    "    # Create a plot for the current state\n",
    "    plt.figure(figsize=(8, 4))\n",
    "    plt.plot(actual_values, label='Actual Values')\n",
    "    plt.plot(predicted_values, label='Predicted Values')\n",
    "    plt.xticks(np.arange(len(actual_values)), np.arange(2015, 2023), rotation=45)\n",
    "    plt.xlabel('Year')\n",
    "    plt.ylabel('Number of Cases')\n",
    "    plt.title(state)\n",
    "    plt.legend()\n",
    "    plt.show()"
   ]
  }
 ],
 "metadata": {
  "kernelspec": {
   "display_name": "Python 3",
   "language": "python",
   "name": "python3"
  },
  "language_info": {
   "codemirror_mode": {
    "name": "ipython",
    "version": 3
   },
   "file_extension": ".py",
   "mimetype": "text/x-python",
   "name": "python",
   "nbconvert_exporter": "python",
   "pygments_lexer": "ipython3",
   "version": "3.8.3"
  }
 },
 "nbformat": 4,
 "nbformat_minor": 4
}
