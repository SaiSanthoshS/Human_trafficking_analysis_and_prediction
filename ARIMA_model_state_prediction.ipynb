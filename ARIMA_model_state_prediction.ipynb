{
 "cells": [
  {
   "cell_type": "code",
   "execution_count": 6,
   "metadata": {},
   "outputs": [
    {
     "ename": "ModuleNotFoundError",
     "evalue": "No module named 'statsmodels'",
     "output_type": "error",
     "traceback": [
      "\u001b[1;31m---------------------------------------------------------------------------\u001b[0m",
      "\u001b[1;31mModuleNotFoundError\u001b[0m                       Traceback (most recent call last)",
      "Cell \u001b[1;32mIn[6], line 3\u001b[0m\n\u001b[0;32m      1\u001b[0m \u001b[39mimport\u001b[39;00m \u001b[39mpandas\u001b[39;00m \u001b[39mas\u001b[39;00m \u001b[39mpd\u001b[39;00m\n\u001b[0;32m      2\u001b[0m \u001b[39mimport\u001b[39;00m \u001b[39mnumpy\u001b[39;00m \u001b[39mas\u001b[39;00m \u001b[39mnp\u001b[39;00m\n\u001b[1;32m----> 3\u001b[0m \u001b[39mfrom\u001b[39;00m \u001b[39mstatsmodels\u001b[39;00m\u001b[39m.\u001b[39;00m\u001b[39mtsa\u001b[39;00m\u001b[39m.\u001b[39;00m\u001b[39mstatespace\u001b[39;00m\u001b[39m.\u001b[39;00m\u001b[39msarimax\u001b[39;00m \u001b[39mimport\u001b[39;00m SARIMAX\n\u001b[0;32m      4\u001b[0m \u001b[39mimport\u001b[39;00m \u001b[39mmatplotlib\u001b[39;00m\u001b[39m.\u001b[39;00m\u001b[39mpyplot\u001b[39;00m \u001b[39mas\u001b[39;00m \u001b[39mplt\u001b[39;00m\n\u001b[0;32m      5\u001b[0m \u001b[39mimport\u001b[39;00m \u001b[39mpickle\u001b[39;00m\n",
      "\u001b[1;31mModuleNotFoundError\u001b[0m: No module named 'statsmodels'"
     ]
    }
   ],
   "source": [
    "import pandas as pd\n",
    "import numpy as np\n",
    "from statsmodels.tsa.statespace.sarimax import SARIMAX\n",
    "import matplotlib.pyplot as plt\n",
    "import pickle\n",
    "\n",
    "# Load the dataset\n",
    "df = pd.read_csv('Human trafficking 15-20.csv')\n",
    "\n",
    "# Get the list of states from the first column\n",
    "states = df.iloc[:, 0].unique()\n",
    "\n",
    "# Create a dictionary to store the models and predictions for each state\n",
    "models = {}\n",
    "predictions = {}\n",
    "accuracy ={}\n",
    "# Loop over each state and train a separate SARIMA model\n",
    "for state in states:\n",
    "    # Get the data for the current state\n",
    "    data = df[df.iloc[:, 0] == state].iloc[:, 1:].squeeze()\n",
    "\n",
    "    # Split the data into training and testing sets\n",
    "    train_data = data[:-2]\n",
    "    test_data = data[-2:]\n",
    "\n",
    "    # Train the SARIMA model\n",
    "    model = SARIMAX(train_data, order=(1, 1, 1), seasonal_order=(1, 1, 1, 12))\n",
    "    model_fit = model.fit()\n",
    "\n",
    "    # Make predictions for the next 5 years\n",
    "    predictions[state] = model_fit.forecast(steps=5)\n",
    "\n",
    "    # Store the trained model\n",
    "    models[state] = model_fit\n",
    "    accuracy[state] = 1 - (np.sum(np.abs(actual_values - predicted_values[:6])) / np.sum(actual_values))\n",
    "    state_rmse[state] = accuracy[state]\n",
    "    \n",
    "    # Print the RMSE for this state\n",
    "    print(f\"{state}: {state_rmse[state]}\")\n",
    "    \n",
    "    # Save the model for the current state\n",
    "    model_filename = f'{state}_model.pkl'\n",
    "    with open(model_filename, 'wb') as file:\n",
    "        pickle.dump(model_fit, file)\n",
    "\n",
    "# Plot the predicted values for each state\n",
    "for state in states:\n",
    "    # Get the actual and predicted values for the current state\n",
    "    actual_values = df[df.iloc[:, 0] == state].iloc[:, 1:].squeeze().values\n",
    "    predicted_values = np.concatenate([actual_values[:-2], predictions[state], np.repeat(predictions[state][-1], 2)])\n",
    "\n",
    "    # Create a plot for the current state\n",
    "    plt.figure(figsize=(8, 4))\n",
    "    plt.plot(actual_values, label='Actual Values')\n",
    "    plt.plot(predicted_values, label='Predicted Values')\n",
    "    plt.xticks(np.arange(len(actual_values)), np.arange(2015, 2023), rotation=45)\n",
    "    plt.xlabel('Year')\n",
    "    plt.ylabel('Number of Cases')\n",
    "    plt.title(state)\n",
    "    plt.legend()\n",
    "    plt.show()\n"
   ]
  },
  {
   "cell_type": "code",
   "execution_count": null,
   "metadata": {},
   "outputs": [],
   "source": [
    "# Create a dictionary to store the accuracy for each state\n",
    "accuracy = {}\n",
    "\n",
    "# Loop over each state\n",
    "for state in states:\n",
    "    # Get the actual and predicted values for the current state\n",
    "    actual_values = df[df.iloc[:, 0] == state].iloc[:, 1:].squeeze().values\n",
    "    predicted_values = np.concatenate([actual_values[:-2], predictions[state], np.repeat(predictions[state][-1], 2)])\n",
    "\n",
    "    # Calculate the mean absolute percentage error (MAPE) for the current state\n",
    "    mape = np.mean(np.abs((actual_values - predicted_values[:6]) / actual_values)) * 100\n",
    "\n",
    "    # Store the accuracy for the current state\n",
    "    accuracy[state] = 100 - mape\n",
    "\n",
    "# Print the accuracy for each state\n",
    "for state, acc in accuracy.items():\n",
    "    print(state, ':', acc, '%')"
   ]
  },
  {
   "cell_type": "code",
   "execution_count": null,
   "metadata": {},
   "outputs": [],
   "source": [
    "# Create a dictionary to store the MAE for each state\n",
    "mae_dict = {}\n",
    "\n",
    "# Loop over each state\n",
    "for state in states:\n",
    "    # Get the actual and predicted values for the current state\n",
    "    actual_values = df[df.iloc[:, 0] == state].iloc[:, 1:].squeeze().values\n",
    "    predicted_values = np.concatenate([actual_values[:-2], predictions[state], np.repeat(predictions[state][-1], 2)])\n",
    "\n",
    "    # Calculate the MAE for the current state\n",
    "    mae = np.mean(np.abs(predicted_values[:6] - actual_values))\n",
    "    mae_dict[state] = mae\n",
    "\n",
    "# Print the MAE for each state\n",
    "for state, mae in mae_dict.items():\n",
    "    print(f\"MAE for {state}: {mae}\")\n"
   ]
  },
  {
   "cell_type": "code",
   "execution_count": null,
   "metadata": {},
   "outputs": [],
   "source": []
  }
 ],
 "metadata": {
  "kernelspec": {
   "display_name": "Python 3",
   "language": "python",
   "name": "python3"
  },
  "language_info": {
   "codemirror_mode": {
    "name": "ipython",
    "version": 3
   },
   "file_extension": ".py",
   "mimetype": "text/x-python",
   "name": "python",
   "nbconvert_exporter": "python",
   "pygments_lexer": "ipython3",
   "version": "3.9.1"
  }
 },
 "nbformat": 4,
 "nbformat_minor": 4
}
